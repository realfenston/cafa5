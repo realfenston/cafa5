{
 "cells": [
  {
   "cell_type": "code",
   "execution_count": 1,
   "id": "1f49fc3f",
   "metadata": {
    "execution": {
     "iopub.execute_input": "2023-06-01T11:34:53.241878Z",
     "iopub.status.busy": "2023-06-01T11:34:53.241167Z",
     "iopub.status.idle": "2023-06-01T11:35:05.873824Z",
     "shell.execute_reply": "2023-06-01T11:35:05.872231Z"
    },
    "papermill": {
     "duration": 12.647251,
     "end_time": "2023-06-01T11:35:05.877354",
     "exception": false,
     "start_time": "2023-06-01T11:34:53.230103",
     "status": "completed"
    },
    "tags": []
   },
   "outputs": [
    {
     "name": "stderr",
     "output_type": "stream",
     "text": [
      "2023-06-24 18:48:33.665512: I tensorflow/core/platform/cpu_feature_guard.cc:182] This TensorFlow binary is optimized to use available CPU instructions in performance-critical operations.\n",
      "To enable the following instructions: AVX2 AVX512F FMA, in other operations, rebuild TensorFlow with the appropriate compiler flags.\n",
      "2023-06-24 18:48:36.731242: W tensorflow/compiler/tf2tensorrt/utils/py_utils.cc:38] TF-TRT Warning: Could not find TensorRT\n"
     ]
    }
   ],
   "source": [
    "import tensorflow as tf\n",
    "import pandas as pd\n",
    "import numpy as np\n",
    "import seaborn as sns\n",
    "import matplotlib.pyplot as plt\n",
    "\n",
    "# Required for progressbar widget\n",
    "import progressbar"
   ]
  },
  {
   "cell_type": "code",
   "execution_count": 2,
   "id": "50934f95",
   "metadata": {
    "execution": {
     "iopub.execute_input": "2023-06-01T11:35:05.896770Z",
     "iopub.status.busy": "2023-06-01T11:35:05.895832Z",
     "iopub.status.idle": "2023-06-01T11:35:06.058792Z",
     "shell.execute_reply": "2023-06-01T11:35:06.057532Z"
    },
    "papermill": {
     "duration": 0.175729,
     "end_time": "2023-06-01T11:35:06.061773",
     "exception": false,
     "start_time": "2023-06-01T11:35:05.886044",
     "status": "completed"
    },
    "tags": []
   },
   "outputs": [
    {
     "name": "stderr",
     "output_type": "stream",
     "text": [
      "2023-06-24 18:48:54.584459: I tensorflow/core/common_runtime/gpu/gpu_device.cc:1635] Created device /job:localhost/replica:0/task:0/device:GPU:0 with 22260 MB memory:  -> device: 0, name: GeForce RTX 3090, pci bus id: 0000:17:00.0, compute capability: 8.6\n"
     ]
    },
    {
     "name": "stdout",
     "output_type": "stream",
     "text": [
      "tf.Tensor(-273.43842, shape=(), dtype=float32)\n"
     ]
    },
    {
     "name": "stderr",
     "output_type": "stream",
     "text": [
      "2023-06-24 18:48:54.610445: I tensorflow/core/common_runtime/gpu/gpu_device.cc:1635] Created device /job:localhost/replica:0/task:0/device:GPU:1 with 21013 MB memory:  -> device: 1, name: GeForce RTX 3090, pci bus id: 0000:65:00.0, compute capability: 8.6\n"
     ]
    }
   ],
   "source": [
    "import tensorflow as tf\n",
    "print(tf.reduce_sum(tf.random.normal([1000, 1000])))"
   ]
  },
  {
   "cell_type": "code",
   "execution_count": 3,
   "id": "6b75b371",
   "metadata": {
    "execution": {
     "iopub.execute_input": "2023-06-01T11:35:06.081324Z",
     "iopub.status.busy": "2023-06-01T11:35:06.080843Z",
     "iopub.status.idle": "2023-06-01T11:35:06.088422Z",
     "shell.execute_reply": "2023-06-01T11:35:06.086703Z"
    },
    "papermill": {
     "duration": 0.021346,
     "end_time": "2023-06-01T11:35:06.092117",
     "exception": false,
     "start_time": "2023-06-01T11:35:06.070771",
     "status": "completed"
    },
    "tags": []
   },
   "outputs": [
    {
     "name": "stdout",
     "output_type": "stream",
     "text": [
      "TensorFlow v2.12.0\n",
      "Numpy v1.23.5\n"
     ]
    }
   ],
   "source": [
    "print(\"TensorFlow v\" + tf.__version__)\n",
    "print(\"Numpy v\" + np.__version__)"
   ]
  },
  {
   "cell_type": "code",
   "execution_count": 4,
   "id": "c8d74fc3",
   "metadata": {
    "execution": {
     "iopub.execute_input": "2023-06-01T11:35:06.110945Z",
     "iopub.status.busy": "2023-06-01T11:35:06.110436Z",
     "iopub.status.idle": "2023-06-01T11:35:10.461861Z",
     "shell.execute_reply": "2023-06-01T11:35:10.460500Z"
    },
    "papermill": {
     "duration": 4.364152,
     "end_time": "2023-06-01T11:35:10.464685",
     "exception": false,
     "start_time": "2023-06-01T11:35:06.100533",
     "status": "completed"
    },
    "tags": []
   },
   "outputs": [
    {
     "name": "stdout",
     "output_type": "stream",
     "text": [
      "(5363863, 3)\n"
     ]
    }
   ],
   "source": [
    "train_terms = pd.read_csv(\"Train/train_terms.tsv\",sep=\"\\t\")\n",
    "print(train_terms.shape)"
   ]
  },
  {
   "cell_type": "code",
   "execution_count": 5,
   "id": "2715a28a",
   "metadata": {
    "execution": {
     "iopub.execute_input": "2023-06-01T11:35:10.485322Z",
     "iopub.status.busy": "2023-06-01T11:35:10.484879Z",
     "iopub.status.idle": "2023-06-01T11:35:10.518275Z",
     "shell.execute_reply": "2023-06-01T11:35:10.516936Z"
    },
    "papermill": {
     "duration": 0.046521,
     "end_time": "2023-06-01T11:35:10.521563",
     "exception": false,
     "start_time": "2023-06-01T11:35:10.475042",
     "status": "completed"
    },
    "tags": []
   },
   "outputs": [
    {
     "data": {
      "text/html": [
       "<div>\n",
       "<style scoped>\n",
       "    .dataframe tbody tr th:only-of-type {\n",
       "        vertical-align: middle;\n",
       "    }\n",
       "\n",
       "    .dataframe tbody tr th {\n",
       "        vertical-align: top;\n",
       "    }\n",
       "\n",
       "    .dataframe thead th {\n",
       "        text-align: right;\n",
       "    }\n",
       "</style>\n",
       "<table border=\"1\" class=\"dataframe\">\n",
       "  <thead>\n",
       "    <tr style=\"text-align: right;\">\n",
       "      <th></th>\n",
       "      <th>EntryID</th>\n",
       "      <th>term</th>\n",
       "      <th>aspect</th>\n",
       "    </tr>\n",
       "  </thead>\n",
       "  <tbody>\n",
       "    <tr>\n",
       "      <th>0</th>\n",
       "      <td>A0A009IHW8</td>\n",
       "      <td>GO:0008152</td>\n",
       "      <td>BPO</td>\n",
       "    </tr>\n",
       "    <tr>\n",
       "      <th>1</th>\n",
       "      <td>A0A009IHW8</td>\n",
       "      <td>GO:0034655</td>\n",
       "      <td>BPO</td>\n",
       "    </tr>\n",
       "    <tr>\n",
       "      <th>2</th>\n",
       "      <td>A0A009IHW8</td>\n",
       "      <td>GO:0072523</td>\n",
       "      <td>BPO</td>\n",
       "    </tr>\n",
       "    <tr>\n",
       "      <th>3</th>\n",
       "      <td>A0A009IHW8</td>\n",
       "      <td>GO:0044270</td>\n",
       "      <td>BPO</td>\n",
       "    </tr>\n",
       "    <tr>\n",
       "      <th>4</th>\n",
       "      <td>A0A009IHW8</td>\n",
       "      <td>GO:0006753</td>\n",
       "      <td>BPO</td>\n",
       "    </tr>\n",
       "  </tbody>\n",
       "</table>\n",
       "</div>"
      ],
      "text/plain": [
       "      EntryID        term aspect\n",
       "0  A0A009IHW8  GO:0008152    BPO\n",
       "1  A0A009IHW8  GO:0034655    BPO\n",
       "2  A0A009IHW8  GO:0072523    BPO\n",
       "3  A0A009IHW8  GO:0044270    BPO\n",
       "4  A0A009IHW8  GO:0006753    BPO"
      ]
     },
     "execution_count": 5,
     "metadata": {},
     "output_type": "execute_result"
    }
   ],
   "source": [
    "train_terms.head()"
   ]
  },
  {
   "cell_type": "code",
   "execution_count": 6,
   "id": "5db5a17b",
   "metadata": {
    "execution": {
     "iopub.execute_input": "2023-06-01T11:35:10.541065Z",
     "iopub.status.busy": "2023-06-01T11:35:10.540593Z",
     "iopub.status.idle": "2023-06-01T11:35:10.598516Z",
     "shell.execute_reply": "2023-06-01T11:35:10.597517Z"
    },
    "papermill": {
     "duration": 0.070769,
     "end_time": "2023-06-01T11:35:10.601062",
     "exception": false,
     "start_time": "2023-06-01T11:35:10.530293",
     "status": "completed"
    },
    "tags": []
   },
   "outputs": [
    {
     "name": "stdout",
     "output_type": "stream",
     "text": [
      "(142246, 2560)\n"
     ]
    }
   ],
   "source": [
    "train_protein_ids = np.load('train_embeddings_reshaped.npy')\n",
    "print(train_protein_ids.shape)"
   ]
  },
  {
   "cell_type": "code",
   "execution_count": 7,
   "id": "80a165b6",
   "metadata": {
    "execution": {
     "iopub.execute_input": "2023-06-01T11:35:10.620751Z",
     "iopub.status.busy": "2023-06-01T11:35:10.619871Z",
     "iopub.status.idle": "2023-06-01T11:35:10.627005Z",
     "shell.execute_reply": "2023-06-01T11:35:10.625698Z"
    },
    "papermill": {
     "duration": 0.020271,
     "end_time": "2023-06-01T11:35:10.630072",
     "exception": false,
     "start_time": "2023-06-01T11:35:10.609801",
     "status": "completed"
    },
    "tags": []
   },
   "outputs": [
    {
     "data": {
      "text/plain": [
       "array([[  4.454344  ,   0.68183047,   2.3364797 , ...,  -3.8324206 ,\n",
       "         -2.7624192 ,   6.0962343 ],\n",
       "       [ -1.3721825 ,  -2.8809202 ,   0.5955501 , ...,   2.0303538 ,\n",
       "        -10.280183  ,  -0.7388999 ],\n",
       "       [ -0.30013543,  -4.5068355 ,  -0.66257775, ...,   2.9099398 ,\n",
       "        -15.612496  ,  -0.13104862],\n",
       "       [  0.9610862 ,  -1.8490543 ,   4.906328  , ...,   1.8254727 ,\n",
       "        -15.74499   ,  -6.66339   ],\n",
       "       [  8.683366  ,  -0.483094  ,   3.0129888 , ...,  -1.024342  ,\n",
       "        -11.808151  ,   6.5238895 ]], dtype=float32)"
      ]
     },
     "execution_count": 7,
     "metadata": {},
     "output_type": "execute_result"
    }
   ],
   "source": [
    "train_protein_ids[:5]"
   ]
  },
  {
   "cell_type": "code",
   "execution_count": 8,
   "id": "780900ba",
   "metadata": {
    "execution": {
     "iopub.execute_input": "2023-06-01T11:35:10.649766Z",
     "iopub.status.busy": "2023-06-01T11:35:10.649120Z",
     "iopub.status.idle": "2023-06-01T11:35:21.899824Z",
     "shell.execute_reply": "2023-06-01T11:35:21.898183Z"
    },
    "papermill": {
     "duration": 11.263331,
     "end_time": "2023-06-01T11:35:21.902411",
     "exception": false,
     "start_time": "2023-06-01T11:35:10.639080",
     "status": "completed"
    },
    "tags": []
   },
   "outputs": [
    {
     "name": "stdout",
     "output_type": "stream",
     "text": [
      "(142246, 1024)\n"
     ]
    }
   ],
   "source": [
    "train_embeddings = np.load('train_embeddings_reshaped.npy')\n",
    "\n",
    "# Now lets convert embeddings numpy array(train_embeddings) into pandas dataframe.\n",
    "column_num = train_embeddings.shape[1]\n",
    "train_df = pd.DataFrame(train_embeddings, columns = [\"Column_\" + str(i) for i in range(1, column_num+1)])\n",
    "print(train_df.shape)"
   ]
  },
  {
   "cell_type": "code",
   "execution_count": 9,
   "id": "d41060a2",
   "metadata": {
    "execution": {
     "iopub.execute_input": "2023-06-01T11:35:21.921165Z",
     "iopub.status.busy": "2023-06-01T11:35:21.920777Z",
     "iopub.status.idle": "2023-06-01T11:35:21.956008Z",
     "shell.execute_reply": "2023-06-01T11:35:21.954406Z"
    },
    "papermill": {
     "duration": 0.048042,
     "end_time": "2023-06-01T11:35:21.958919",
     "exception": false,
     "start_time": "2023-06-01T11:35:21.910877",
     "status": "completed"
    },
    "tags": []
   },
   "outputs": [
    {
     "data": {
      "text/html": [
       "<div>\n",
       "<style scoped>\n",
       "    .dataframe tbody tr th:only-of-type {\n",
       "        vertical-align: middle;\n",
       "    }\n",
       "\n",
       "    .dataframe tbody tr th {\n",
       "        vertical-align: top;\n",
       "    }\n",
       "\n",
       "    .dataframe thead th {\n",
       "        text-align: right;\n",
       "    }\n",
       "</style>\n",
       "<table border=\"1\" class=\"dataframe\">\n",
       "  <thead>\n",
       "    <tr style=\"text-align: right;\">\n",
       "      <th></th>\n",
       "      <th>Column_1</th>\n",
       "      <th>Column_2</th>\n",
       "      <th>Column_3</th>\n",
       "      <th>Column_4</th>\n",
       "      <th>Column_5</th>\n",
       "      <th>Column_6</th>\n",
       "      <th>Column_7</th>\n",
       "      <th>Column_8</th>\n",
       "      <th>Column_9</th>\n",
       "      <th>Column_10</th>\n",
       "      <th>...</th>\n",
       "      <th>Column_1015</th>\n",
       "      <th>Column_1016</th>\n",
       "      <th>Column_1017</th>\n",
       "      <th>Column_1018</th>\n",
       "      <th>Column_1019</th>\n",
       "      <th>Column_1020</th>\n",
       "      <th>Column_1021</th>\n",
       "      <th>Column_1022</th>\n",
       "      <th>Column_1023</th>\n",
       "      <th>Column_1024</th>\n",
       "    </tr>\n",
       "  </thead>\n",
       "  <tbody>\n",
       "    <tr>\n",
       "      <th>0</th>\n",
       "      <td>0.049488</td>\n",
       "      <td>-0.032935</td>\n",
       "      <td>0.032473</td>\n",
       "      <td>-0.033723</td>\n",
       "      <td>-0.059505</td>\n",
       "      <td>0.075936</td>\n",
       "      <td>-0.045860</td>\n",
       "      <td>-0.104476</td>\n",
       "      <td>-0.072112</td>\n",
       "      <td>0.038806</td>\n",
       "      <td>...</td>\n",
       "      <td>-0.046516</td>\n",
       "      <td>-0.028773</td>\n",
       "      <td>-0.021878</td>\n",
       "      <td>-0.097883</td>\n",
       "      <td>0.056475</td>\n",
       "      <td>0.080950</td>\n",
       "      <td>-0.020938</td>\n",
       "      <td>-0.043532</td>\n",
       "      <td>0.096463</td>\n",
       "      <td>0.073070</td>\n",
       "    </tr>\n",
       "    <tr>\n",
       "      <th>1</th>\n",
       "      <td>-0.044616</td>\n",
       "      <td>0.064925</td>\n",
       "      <td>-0.080263</td>\n",
       "      <td>-0.075338</td>\n",
       "      <td>-0.004731</td>\n",
       "      <td>0.025408</td>\n",
       "      <td>-0.024685</td>\n",
       "      <td>-0.016568</td>\n",
       "      <td>-0.038980</td>\n",
       "      <td>-0.033870</td>\n",
       "      <td>...</td>\n",
       "      <td>-0.040173</td>\n",
       "      <td>0.003925</td>\n",
       "      <td>0.006130</td>\n",
       "      <td>0.007362</td>\n",
       "      <td>-0.066848</td>\n",
       "      <td>0.106882</td>\n",
       "      <td>-0.030134</td>\n",
       "      <td>0.026724</td>\n",
       "      <td>0.027879</td>\n",
       "      <td>-0.048430</td>\n",
       "    </tr>\n",
       "    <tr>\n",
       "      <th>2</th>\n",
       "      <td>-0.020128</td>\n",
       "      <td>-0.049779</td>\n",
       "      <td>0.007894</td>\n",
       "      <td>-0.000829</td>\n",
       "      <td>-0.047737</td>\n",
       "      <td>0.086453</td>\n",
       "      <td>-0.038107</td>\n",
       "      <td>-0.036379</td>\n",
       "      <td>0.029611</td>\n",
       "      <td>0.045029</td>\n",
       "      <td>...</td>\n",
       "      <td>0.029388</td>\n",
       "      <td>0.008456</td>\n",
       "      <td>0.000697</td>\n",
       "      <td>0.013502</td>\n",
       "      <td>-0.005968</td>\n",
       "      <td>-0.011571</td>\n",
       "      <td>0.005704</td>\n",
       "      <td>-0.036103</td>\n",
       "      <td>0.007693</td>\n",
       "      <td>0.106234</td>\n",
       "    </tr>\n",
       "    <tr>\n",
       "      <th>3</th>\n",
       "      <td>-0.007515</td>\n",
       "      <td>0.060628</td>\n",
       "      <td>0.004045</td>\n",
       "      <td>0.027056</td>\n",
       "      <td>-0.021542</td>\n",
       "      <td>0.010380</td>\n",
       "      <td>-0.025064</td>\n",
       "      <td>-0.055834</td>\n",
       "      <td>0.068238</td>\n",
       "      <td>0.027764</td>\n",
       "      <td>...</td>\n",
       "      <td>0.020792</td>\n",
       "      <td>0.023307</td>\n",
       "      <td>0.009009</td>\n",
       "      <td>0.018211</td>\n",
       "      <td>0.020820</td>\n",
       "      <td>-0.031738</td>\n",
       "      <td>0.013279</td>\n",
       "      <td>-0.018357</td>\n",
       "      <td>0.008087</td>\n",
       "      <td>0.010917</td>\n",
       "    </tr>\n",
       "    <tr>\n",
       "      <th>4</th>\n",
       "      <td>0.013468</td>\n",
       "      <td>0.041516</td>\n",
       "      <td>0.018435</td>\n",
       "      <td>-0.035595</td>\n",
       "      <td>0.008770</td>\n",
       "      <td>0.018699</td>\n",
       "      <td>-0.015452</td>\n",
       "      <td>-0.038092</td>\n",
       "      <td>-0.038326</td>\n",
       "      <td>-0.012299</td>\n",
       "      <td>...</td>\n",
       "      <td>-0.044742</td>\n",
       "      <td>-0.025432</td>\n",
       "      <td>-0.060886</td>\n",
       "      <td>-0.026915</td>\n",
       "      <td>0.026342</td>\n",
       "      <td>0.017237</td>\n",
       "      <td>0.014731</td>\n",
       "      <td>-0.016861</td>\n",
       "      <td>-0.016272</td>\n",
       "      <td>0.037054</td>\n",
       "    </tr>\n",
       "  </tbody>\n",
       "</table>\n",
       "<p>5 rows × 1024 columns</p>\n",
       "</div>"
      ],
      "text/plain": [
       "   Column_1  Column_2  Column_3  Column_4  Column_5  Column_6  Column_7  \\\n",
       "0  0.049488 -0.032935  0.032473 -0.033723 -0.059505  0.075936 -0.045860   \n",
       "1 -0.044616  0.064925 -0.080263 -0.075338 -0.004731  0.025408 -0.024685   \n",
       "2 -0.020128 -0.049779  0.007894 -0.000829 -0.047737  0.086453 -0.038107   \n",
       "3 -0.007515  0.060628  0.004045  0.027056 -0.021542  0.010380 -0.025064   \n",
       "4  0.013468  0.041516  0.018435 -0.035595  0.008770  0.018699 -0.015452   \n",
       "\n",
       "   Column_8  Column_9  Column_10  ...  Column_1015  Column_1016  Column_1017  \\\n",
       "0 -0.104476 -0.072112   0.038806  ...    -0.046516    -0.028773    -0.021878   \n",
       "1 -0.016568 -0.038980  -0.033870  ...    -0.040173     0.003925     0.006130   \n",
       "2 -0.036379  0.029611   0.045029  ...     0.029388     0.008456     0.000697   \n",
       "3 -0.055834  0.068238   0.027764  ...     0.020792     0.023307     0.009009   \n",
       "4 -0.038092 -0.038326  -0.012299  ...    -0.044742    -0.025432    -0.060886   \n",
       "\n",
       "   Column_1018  Column_1019  Column_1020  Column_1021  Column_1022  \\\n",
       "0    -0.097883     0.056475     0.080950    -0.020938    -0.043532   \n",
       "1     0.007362    -0.066848     0.106882    -0.030134     0.026724   \n",
       "2     0.013502    -0.005968    -0.011571     0.005704    -0.036103   \n",
       "3     0.018211     0.020820    -0.031738     0.013279    -0.018357   \n",
       "4    -0.026915     0.026342     0.017237     0.014731    -0.016861   \n",
       "\n",
       "   Column_1023  Column_1024  \n",
       "0     0.096463     0.073070  \n",
       "1     0.027879    -0.048430  \n",
       "2     0.007693     0.106234  \n",
       "3     0.008087     0.010917  \n",
       "4    -0.016272     0.037054  \n",
       "\n",
       "[5 rows x 1024 columns]"
      ]
     },
     "execution_count": 9,
     "metadata": {},
     "output_type": "execute_result"
    }
   ],
   "source": [
    "train_df.head()"
   ]
  },
  {
   "cell_type": "code",
   "execution_count": 10,
   "id": "380433a6",
   "metadata": {
    "execution": {
     "iopub.execute_input": "2023-06-01T11:35:21.978588Z",
     "iopub.status.busy": "2023-06-01T11:35:21.978203Z",
     "iopub.status.idle": "2023-06-01T11:35:24.341794Z",
     "shell.execute_reply": "2023-06-01T11:35:24.340330Z"
    },
    "papermill": {
     "duration": 2.376839,
     "end_time": "2023-06-01T11:35:24.344744",
     "exception": false,
     "start_time": "2023-06-01T11:35:21.967905",
     "status": "completed"
    },
    "tags": []
   },
   "outputs": [
    {
     "data": {
      "image/png": "[encoded data removed]",
      "text/plain": [
       "<Figure size 1200x600 with 1 Axes>"
      ]
     },
     "metadata": {},
     "output_type": "display_data"
    }
   ],
   "source": [
    "# Select first 1500 values for plotting\n",
    "plot_df = train_terms['term'].value_counts().iloc[:100]\n",
    "\n",
    "figure, axis = plt.subplots(1, 1, figsize=(12, 6))\n",
    "\n",
    "bp = sns.barplot(ax=axis, x=np.array(plot_df.index), y=plot_df.values)\n",
    "bp.set_xticklabels(bp.get_xticklabels(), rotation=90, size = 6)\n",
    "axis.set_title('Top 100 frequent GO term IDs')\n",
    "bp.set_xlabel(\"GO term IDs\", fontsize = 12)\n",
    "bp.set_ylabel(\"Count\", fontsize = 12)\n",
    "plt.show()"
   ]
  },
  {
   "cell_type": "code",
   "execution_count": 11,
   "id": "d86e67fb",
   "metadata": {
    "execution": {
     "iopub.execute_input": "2023-06-01T11:35:24.366385Z",
     "iopub.status.busy": "2023-06-01T11:35:24.365939Z",
     "iopub.status.idle": "2023-06-01T11:35:25.447062Z",
     "shell.execute_reply": "2023-06-01T11:35:25.445694Z"
    },
    "papermill": {
     "duration": 1.095484,
     "end_time": "2023-06-01T11:35:25.449933",
     "exception": false,
     "start_time": "2023-06-01T11:35:24.354449",
     "status": "completed"
    },
    "tags": []
   },
   "outputs": [],
   "source": [
    "# Set the limit for label\n",
    "num_of_labels = 1500\n",
    "\n",
    "# Take value counts in descending order and fetch first 1500 `GO term ID` as labels\n",
    "labels = train_terms['term'].value_counts().index[:num_of_labels].tolist()"
   ]
  },
  {
   "cell_type": "code",
   "execution_count": 12,
   "id": "305f048d",
   "metadata": {
    "execution": {
     "iopub.execute_input": "2023-06-01T11:35:25.471877Z",
     "iopub.status.busy": "2023-06-01T11:35:25.471375Z",
     "iopub.status.idle": "2023-06-01T11:35:26.360379Z",
     "shell.execute_reply": "2023-06-01T11:35:26.358976Z"
    },
    "papermill": {
     "duration": 0.903922,
     "end_time": "2023-06-01T11:35:26.363470",
     "exception": false,
     "start_time": "2023-06-01T11:35:25.459548",
     "status": "completed"
    },
    "tags": []
   },
   "outputs": [],
   "source": [
    "# Fetch the train_terms data for the relevant labels only\n",
    "train_terms_updated = train_terms.loc[train_terms['term'].isin(labels)]"
   ]
  },
  {
   "cell_type": "code",
   "execution_count": 13,
   "id": "dd7ec5c2",
   "metadata": {
    "execution": {
     "iopub.execute_input": "2023-06-01T11:35:26.385260Z",
     "iopub.status.busy": "2023-06-01T11:35:26.384785Z",
     "iopub.status.idle": "2023-06-01T11:35:27.247056Z",
     "shell.execute_reply": "2023-06-01T11:35:27.245404Z"
    },
    "papermill": {
     "duration": 0.878164,
     "end_time": "2023-06-01T11:35:27.251316",
     "exception": false,
     "start_time": "2023-06-01T11:35:26.373152",
     "status": "completed"
    },
    "tags": []
   },
   "outputs": [
    {
     "data": {
      "image/png": "[encoded data removed]",
      "text/plain": [
       "<Figure size 640x480 with 1 Axes>"
      ]
     },
     "metadata": {},
     "output_type": "display_data"
    }
   ],
   "source": [
    "pie_df = train_terms_updated['aspect'].value_counts()\n",
    "palette_color = sns.color_palette('bright')\n",
    "plt.pie(pie_df.values, labels=np.array(pie_df.index), colors=palette_color, autopct='%.0f%%')\n",
    "plt.show()"
   ]
  },
  {
   "cell_type": "code",
   "execution_count": 14,
   "id": "7cc773d6",
   "metadata": {
    "execution": {
     "iopub.execute_input": "2023-06-01T11:35:27.297623Z",
     "iopub.status.busy": "2023-06-01T11:35:27.295126Z",
     "iopub.status.idle": "2023-06-01T11:55:46.843496Z",
     "shell.execute_reply": "2023-06-01T11:55:46.841729Z"
    },
    "papermill": {
     "duration": 1219.57413,
     "end_time": "2023-06-01T11:55:46.846268",
     "exception": false,
     "start_time": "2023-06-01T11:35:27.272138",
     "status": "completed"
    },
    "tags": []
   },
   "outputs": [
    {
     "name": "stderr",
     "output_type": "stream",
     "text": [
      "[========================================================================] 100%\n"
     ]
    },
    {
     "name": "stdout",
     "output_type": "stream",
     "text": [
      "(142246, 1500)\n"
     ]
    }
   ],
   "source": [
    "# Setup progressbar settings.\n",
    "# This is strictly for aesthetic.\n",
    "bar = progressbar.ProgressBar(maxval=num_of_labels, \\\n",
    "    widgets=[progressbar.Bar('=', '[', ']'), ' ', progressbar.Percentage()]).start()\n",
    "\n",
    "# Create an empty dataframe of required size for storing the labels,\n",
    "# i.e, train_size x num_of_labels (142246 x 1500)\n",
    "train_size = train_protein_ids.shape[0] # len(X)\n",
    "train_labels = np.zeros((train_size ,num_of_labels))\n",
    "\n",
    "# Convert from numpy to pandas series for better handling\n",
    "series_train_protein_ids = pd.Series(train_protein_ids)\n",
    "\n",
    "# Loop through each label\n",
    "for i in range(num_of_labels):\n",
    "    # For each label, fetch the corresponding train_terms data\n",
    "    n_train_terms = train_terms_updated[train_terms_updated['term'] ==  labels[i]]\n",
    "    \n",
    "    # Fetch all the unique EntryId aka proteins related to the current label(GO term ID)\n",
    "    label_related_proteins = n_train_terms['EntryID'].unique()\n",
    "    \n",
    "    # In the series_train_protein_ids pandas series, if a protein is related\n",
    "    # to the current label, then mark it as 1, else 0.\n",
    "    # Replace the ith column of train_Y with with that pandas series.\n",
    "    train_labels[:,i] =  series_train_protein_ids.isin(label_related_proteins).astype(float)\n",
    "    \n",
    "    # Progress bar percentage increase\n",
    "    bar.update(i+1)\n",
    "\n",
    "# Notify the end of progress bar \n",
    "bar.finish()\n",
    "\n",
    "# Convert train_Y numpy into pandas dataframe\n",
    "labels_df = pd.DataFrame(data = train_labels, columns = labels)\n",
    "print(labels_df.shape)"
   ]
  },
  {
   "cell_type": "code",
   "execution_count": 15,
   "id": "cd36d3ea",
   "metadata": {
    "execution": {
     "iopub.execute_input": "2023-06-01T11:55:46.883369Z",
     "iopub.status.busy": "2023-06-01T11:55:46.882898Z",
     "iopub.status.idle": "2023-06-01T11:55:46.922408Z",
     "shell.execute_reply": "2023-06-01T11:55:46.921064Z"
    },
    "papermill": {
     "duration": 0.061793,
     "end_time": "2023-06-01T11:55:46.925315",
     "exception": false,
     "start_time": "2023-06-01T11:55:46.863522",
     "status": "completed"
    },
    "tags": []
   },
   "outputs": [
    {
     "data": {
      "text/html": [
       "<div>\n",
       "<style scoped>\n",
       "    .dataframe tbody tr th:only-of-type {\n",
       "        vertical-align: middle;\n",
       "    }\n",
       "\n",
       "    .dataframe tbody tr th {\n",
       "        vertical-align: top;\n",
       "    }\n",
       "\n",
       "    .dataframe thead th {\n",
       "        text-align: right;\n",
       "    }\n",
       "</style>\n",
       "<table border=\"1\" class=\"dataframe\">\n",
       "  <thead>\n",
       "    <tr style=\"text-align: right;\">\n",
       "      <th></th>\n",
       "      <th>GO:0005575</th>\n",
       "      <th>GO:0008150</th>\n",
       "      <th>GO:0110165</th>\n",
       "      <th>GO:0003674</th>\n",
       "      <th>GO:0005622</th>\n",
       "      <th>GO:0009987</th>\n",
       "      <th>GO:0043226</th>\n",
       "      <th>GO:0043229</th>\n",
       "      <th>GO:0005488</th>\n",
       "      <th>GO:0043227</th>\n",
       "      <th>...</th>\n",
       "      <th>GO:0034250</th>\n",
       "      <th>GO:0140053</th>\n",
       "      <th>GO:0031345</th>\n",
       "      <th>GO:0098802</th>\n",
       "      <th>GO:0045861</th>\n",
       "      <th>GO:0051783</th>\n",
       "      <th>GO:0031674</th>\n",
       "      <th>GO:0001818</th>\n",
       "      <th>GO:0006874</th>\n",
       "      <th>GO:0016887</th>\n",
       "    </tr>\n",
       "  </thead>\n",
       "  <tbody>\n",
       "    <tr>\n",
       "      <th>0</th>\n",
       "      <td>0.0</td>\n",
       "      <td>1.0</td>\n",
       "      <td>0.0</td>\n",
       "      <td>1.0</td>\n",
       "      <td>0.0</td>\n",
       "      <td>1.0</td>\n",
       "      <td>0.0</td>\n",
       "      <td>0.0</td>\n",
       "      <td>1.0</td>\n",
       "      <td>0.0</td>\n",
       "      <td>...</td>\n",
       "      <td>0.0</td>\n",
       "      <td>0.0</td>\n",
       "      <td>0.0</td>\n",
       "      <td>0.0</td>\n",
       "      <td>0.0</td>\n",
       "      <td>0.0</td>\n",
       "      <td>0.0</td>\n",
       "      <td>0.0</td>\n",
       "      <td>0.0</td>\n",
       "      <td>0.0</td>\n",
       "    </tr>\n",
       "    <tr>\n",
       "      <th>1</th>\n",
       "      <td>1.0</td>\n",
       "      <td>1.0</td>\n",
       "      <td>1.0</td>\n",
       "      <td>1.0</td>\n",
       "      <td>0.0</td>\n",
       "      <td>1.0</td>\n",
       "      <td>0.0</td>\n",
       "      <td>0.0</td>\n",
       "      <td>1.0</td>\n",
       "      <td>0.0</td>\n",
       "      <td>...</td>\n",
       "      <td>0.0</td>\n",
       "      <td>0.0</td>\n",
       "      <td>0.0</td>\n",
       "      <td>0.0</td>\n",
       "      <td>0.0</td>\n",
       "      <td>0.0</td>\n",
       "      <td>0.0</td>\n",
       "      <td>0.0</td>\n",
       "      <td>0.0</td>\n",
       "      <td>0.0</td>\n",
       "    </tr>\n",
       "    <tr>\n",
       "      <th>2</th>\n",
       "      <td>1.0</td>\n",
       "      <td>1.0</td>\n",
       "      <td>1.0</td>\n",
       "      <td>1.0</td>\n",
       "      <td>1.0</td>\n",
       "      <td>0.0</td>\n",
       "      <td>1.0</td>\n",
       "      <td>1.0</td>\n",
       "      <td>1.0</td>\n",
       "      <td>1.0</td>\n",
       "      <td>...</td>\n",
       "      <td>0.0</td>\n",
       "      <td>0.0</td>\n",
       "      <td>0.0</td>\n",
       "      <td>0.0</td>\n",
       "      <td>0.0</td>\n",
       "      <td>0.0</td>\n",
       "      <td>0.0</td>\n",
       "      <td>0.0</td>\n",
       "      <td>0.0</td>\n",
       "      <td>0.0</td>\n",
       "    </tr>\n",
       "    <tr>\n",
       "      <th>3</th>\n",
       "      <td>1.0</td>\n",
       "      <td>1.0</td>\n",
       "      <td>1.0</td>\n",
       "      <td>1.0</td>\n",
       "      <td>0.0</td>\n",
       "      <td>1.0</td>\n",
       "      <td>1.0</td>\n",
       "      <td>0.0</td>\n",
       "      <td>0.0</td>\n",
       "      <td>1.0</td>\n",
       "      <td>...</td>\n",
       "      <td>0.0</td>\n",
       "      <td>0.0</td>\n",
       "      <td>0.0</td>\n",
       "      <td>0.0</td>\n",
       "      <td>0.0</td>\n",
       "      <td>0.0</td>\n",
       "      <td>0.0</td>\n",
       "      <td>0.0</td>\n",
       "      <td>0.0</td>\n",
       "      <td>0.0</td>\n",
       "    </tr>\n",
       "    <tr>\n",
       "      <th>4</th>\n",
       "      <td>1.0</td>\n",
       "      <td>0.0</td>\n",
       "      <td>1.0</td>\n",
       "      <td>1.0</td>\n",
       "      <td>1.0</td>\n",
       "      <td>0.0</td>\n",
       "      <td>1.0</td>\n",
       "      <td>1.0</td>\n",
       "      <td>1.0</td>\n",
       "      <td>1.0</td>\n",
       "      <td>...</td>\n",
       "      <td>0.0</td>\n",
       "      <td>0.0</td>\n",
       "      <td>0.0</td>\n",
       "      <td>0.0</td>\n",
       "      <td>0.0</td>\n",
       "      <td>0.0</td>\n",
       "      <td>0.0</td>\n",
       "      <td>0.0</td>\n",
       "      <td>0.0</td>\n",
       "      <td>0.0</td>\n",
       "    </tr>\n",
       "  </tbody>\n",
       "</table>\n",
       "<p>5 rows × 1500 columns</p>\n",
       "</div>"
      ],
      "text/plain": [
       "   GO:0005575  GO:0008150  GO:0110165  GO:0003674  GO:0005622  GO:0009987  \\\n",
       "0         0.0         1.0         0.0         1.0         0.0         1.0   \n",
       "1         1.0         1.0         1.0         1.0         0.0         1.0   \n",
       "2         1.0         1.0         1.0         1.0         1.0         0.0   \n",
       "3         1.0         1.0         1.0         1.0         0.0         1.0   \n",
       "4         1.0         0.0         1.0         1.0         1.0         0.0   \n",
       "\n",
       "   GO:0043226  GO:0043229  GO:0005488  GO:0043227  ...  GO:0034250  \\\n",
       "0         0.0         0.0         1.0         0.0  ...         0.0   \n",
       "1         0.0         0.0         1.0         0.0  ...         0.0   \n",
       "2         1.0         1.0         1.0         1.0  ...         0.0   \n",
       "3         1.0         0.0         0.0         1.0  ...         0.0   \n",
       "4         1.0         1.0         1.0         1.0  ...         0.0   \n",
       "\n",
       "   GO:0140053  GO:0031345  GO:0098802  GO:0045861  GO:0051783  GO:0031674  \\\n",
       "0         0.0         0.0         0.0         0.0         0.0         0.0   \n",
       "1         0.0         0.0         0.0         0.0         0.0         0.0   \n",
       "2         0.0         0.0         0.0         0.0         0.0         0.0   \n",
       "3         0.0         0.0         0.0         0.0         0.0         0.0   \n",
       "4         0.0         0.0         0.0         0.0         0.0         0.0   \n",
       "\n",
       "   GO:0001818  GO:0006874  GO:0016887  \n",
       "0         0.0         0.0         0.0  \n",
       "1         0.0         0.0         0.0  \n",
       "2         0.0         0.0         0.0  \n",
       "3         0.0         0.0         0.0  \n",
       "4         0.0         0.0         0.0  \n",
       "\n",
       "[5 rows x 1500 columns]"
      ]
     },
     "execution_count": 15,
     "metadata": {},
     "output_type": "execute_result"
    }
   ],
   "source": [
    "labels_df.head()"
   ]
  },
  {
   "cell_type": "code",
   "execution_count": 16,
   "id": "9156de87",
   "metadata": {
    "execution": {
     "iopub.execute_input": "2023-06-01T11:55:46.962694Z",
     "iopub.status.busy": "2023-06-01T11:55:46.962144Z",
     "iopub.status.idle": "2023-06-01T11:59:14.238720Z",
     "shell.execute_reply": "2023-06-01T11:59:14.236859Z"
    },
    "papermill": {
     "duration": 207.299302,
     "end_time": "2023-06-01T11:59:14.242089",
     "exception": false,
     "start_time": "2023-06-01T11:55:46.942787",
     "status": "completed"
    },
    "tags": []
   },
   "outputs": [
    {
     "name": "stdout",
     "output_type": "stream",
     "text": [
      "Epoch 1/5\n",
      "28/28 [==============================] - 31s 1s/step - loss: 0.1901 - binary_accuracy: 0.9448 - auc: 0.6894\n",
      "Epoch 2/5\n",
      "28/28 [==============================] - 29s 1s/step - loss: 0.0779 - binary_accuracy: 0.9801 - auc: 0.8337\n",
      "Epoch 3/5\n",
      "28/28 [==============================] - 28s 1000ms/step - loss: 0.0731 - binary_accuracy: 0.9803 - auc: 0.8648\n",
      "Epoch 4/5\n",
      "28/28 [==============================] - 28s 1s/step - loss: 0.0691 - binary_accuracy: 0.9805 - auc: 0.8899\n",
      "Epoch 5/5\n",
      "28/28 [==============================] - 28s 1s/step - loss: 0.0664 - binary_accuracy: 0.9807 - auc: 0.9049\n"
     ]
    }
   ],
   "source": [
    "INPUT_SHAPE = [train_df.shape[1]]\n",
    "BATCH_SIZE = 5120\n",
    "\n",
    "model = tf.keras.Sequential([\n",
    "    tf.keras.layers.BatchNormalization(input_shape=INPUT_SHAPE),    \n",
    "    tf.keras.layers.Dense(units=512, activation='relu'),\n",
    "    tf.keras.layers.Dense(units=512, activation='relu'),\n",
    "    tf.keras.layers.Dense(units=512, activation='relu'),\n",
    "    tf.keras.layers.Dense(units=num_of_labels,activation='sigmoid')\n",
    "])\n",
    "\n",
    "\n",
    "# Compile model\n",
    "model.compile(\n",
    "    optimizer=tf.keras.optimizers.Adam(learning_rate=0.001),\n",
    "    loss='binary_crossentropy',\n",
    "    metrics=['binary_accuracy', tf.keras.metrics.AUC()],\n",
    ")\n",
    "\n",
    "history = model.fit(\n",
    "    train_df, labels_df,\n",
    "    batch_size=BATCH_SIZE,\n",
    "    epochs=5\n",
    ")"
   ]
  },
  {
   "cell_type": "code",
   "execution_count": 17,
   "id": "2591c011",
   "metadata": {
    "execution": {
     "iopub.execute_input": "2023-06-01T11:59:14.306874Z",
     "iopub.status.busy": "2023-06-01T11:59:14.306390Z",
     "iopub.status.idle": "2023-06-01T11:59:15.153733Z",
     "shell.execute_reply": "2023-06-01T11:59:15.152148Z"
    },
    "papermill": {
     "duration": 0.883299,
     "end_time": "2023-06-01T11:59:15.156374",
     "exception": false,
     "start_time": "2023-06-01T11:59:14.273075",
     "status": "completed"
    },
    "tags": []
   },
   "outputs": [
    {
     "data": {
      "text/plain": [
       "<Axes: title={'center': 'Accuracy'}>"
      ]
     },
     "execution_count": 17,
     "metadata": {},
     "output_type": "execute_result"
    },
    {
     "data": {
      "image/png": "[encoded data removed]",
      "text/plain": [
       "<Figure size 640x480 with 1 Axes>"
      ]
     },
     "metadata": {},
     "output_type": "display_data"
    },
    {
     "data": {
      "image/png": "[encoded data removed]",
      "text/plain": [
       "<Figure size 640x480 with 1 Axes>"
      ]
     },
     "metadata": {},
     "output_type": "display_data"
    }
   ],
   "source": [
    "history_df = pd.DataFrame(history.history)\n",
    "history_df.loc[:, ['loss']].plot(title=\"Cross-entropy\")\n",
    "history_df.loc[:, ['binary_accuracy']].plot(title=\"Accuracy\")"
   ]
  },
  {
   "cell_type": "code",
   "execution_count": 18,
   "id": "18c42597",
   "metadata": {
    "execution": {
     "iopub.execute_input": "2023-06-01T11:59:15.224421Z",
     "iopub.status.busy": "2023-06-01T11:59:15.223942Z",
     "iopub.status.idle": "2023-06-01T11:59:26.679036Z",
     "shell.execute_reply": "2023-06-01T11:59:26.677303Z"
    },
    "papermill": {
     "duration": 11.492877,
     "end_time": "2023-06-01T11:59:26.681717",
     "exception": false,
     "start_time": "2023-06-01T11:59:15.188840",
     "status": "completed"
    },
    "tags": []
   },
   "outputs": [
    {
     "name": "stdout",
     "output_type": "stream",
     "text": [
      "(141865, 1024)\n"
     ]
    }
   ],
   "source": [
    "test_embeddings = np.load('/kaggle/input/t5embeds/test_embeds.npy')\n",
    "\n",
    "# Convert test_embeddings to dataframe\n",
    "column_num = test_embeddings.shape[1]\n",
    "test_df = pd.DataFrame(test_embeddings, columns = [\"Column_\" + str(i) for i in range(1, column_num+1)])\n",
    "print(test_df.shape)"
   ]
  },
  {
   "cell_type": "code",
   "execution_count": 19,
   "id": "4ac984d9",
   "metadata": {
    "execution": {
     "iopub.execute_input": "2023-06-01T11:59:26.748159Z",
     "iopub.status.busy": "2023-06-01T11:59:26.747759Z",
     "iopub.status.idle": "2023-06-01T11:59:26.777137Z",
     "shell.execute_reply": "2023-06-01T11:59:26.775795Z"
    },
    "papermill": {
     "duration": 0.065794,
     "end_time": "2023-06-01T11:59:26.779877",
     "exception": false,
     "start_time": "2023-06-01T11:59:26.714083",
     "status": "completed"
    },
    "tags": []
   },
   "outputs": [
    {
     "data": {
      "text/html": [
       "<div>\n",
       "<style scoped>\n",
       "    .dataframe tbody tr th:only-of-type {\n",
       "        vertical-align: middle;\n",
       "    }\n",
       "\n",
       "    .dataframe tbody tr th {\n",
       "        vertical-align: top;\n",
       "    }\n",
       "\n",
       "    .dataframe thead th {\n",
       "        text-align: right;\n",
       "    }\n",
       "</style>\n",
       "<table border=\"1\" class=\"dataframe\">\n",
       "  <thead>\n",
       "    <tr style=\"text-align: right;\">\n",
       "      <th></th>\n",
       "      <th>Column_1</th>\n",
       "      <th>Column_2</th>\n",
       "      <th>Column_3</th>\n",
       "      <th>Column_4</th>\n",
       "      <th>Column_5</th>\n",
       "      <th>Column_6</th>\n",
       "      <th>Column_7</th>\n",
       "      <th>Column_8</th>\n",
       "      <th>Column_9</th>\n",
       "      <th>Column_10</th>\n",
       "      <th>...</th>\n",
       "      <th>Column_1015</th>\n",
       "      <th>Column_1016</th>\n",
       "      <th>Column_1017</th>\n",
       "      <th>Column_1018</th>\n",
       "      <th>Column_1019</th>\n",
       "      <th>Column_1020</th>\n",
       "      <th>Column_1021</th>\n",
       "      <th>Column_1022</th>\n",
       "      <th>Column_1023</th>\n",
       "      <th>Column_1024</th>\n",
       "    </tr>\n",
       "  </thead>\n",
       "  <tbody>\n",
       "    <tr>\n",
       "      <th>0</th>\n",
       "      <td>0.054705</td>\n",
       "      <td>0.063420</td>\n",
       "      <td>-0.015320</td>\n",
       "      <td>-0.016506</td>\n",
       "      <td>0.042195</td>\n",
       "      <td>0.021592</td>\n",
       "      <td>-0.118535</td>\n",
       "      <td>-0.063298</td>\n",
       "      <td>-0.046146</td>\n",
       "      <td>-0.102311</td>\n",
       "      <td>...</td>\n",
       "      <td>-0.019581</td>\n",
       "      <td>-0.043712</td>\n",
       "      <td>-0.072322</td>\n",
       "      <td>0.002404</td>\n",
       "      <td>0.018459</td>\n",
       "      <td>-0.047278</td>\n",
       "      <td>0.012195</td>\n",
       "      <td>-0.043319</td>\n",
       "      <td>0.036009</td>\n",
       "      <td>0.063093</td>\n",
       "    </tr>\n",
       "    <tr>\n",
       "      <th>1</th>\n",
       "      <td>0.090373</td>\n",
       "      <td>0.089842</td>\n",
       "      <td>-0.023887</td>\n",
       "      <td>-0.011446</td>\n",
       "      <td>0.051465</td>\n",
       "      <td>0.020982</td>\n",
       "      <td>-0.110989</td>\n",
       "      <td>-0.066646</td>\n",
       "      <td>-0.041259</td>\n",
       "      <td>-0.087551</td>\n",
       "      <td>...</td>\n",
       "      <td>-0.024399</td>\n",
       "      <td>-0.041957</td>\n",
       "      <td>-0.066329</td>\n",
       "      <td>0.006856</td>\n",
       "      <td>0.028449</td>\n",
       "      <td>-0.053758</td>\n",
       "      <td>0.009699</td>\n",
       "      <td>-0.053350</td>\n",
       "      <td>0.019644</td>\n",
       "      <td>0.079630</td>\n",
       "    </tr>\n",
       "    <tr>\n",
       "      <th>2</th>\n",
       "      <td>0.043588</td>\n",
       "      <td>0.039572</td>\n",
       "      <td>-0.014332</td>\n",
       "      <td>-0.011769</td>\n",
       "      <td>0.045109</td>\n",
       "      <td>0.015847</td>\n",
       "      <td>-0.103339</td>\n",
       "      <td>-0.047735</td>\n",
       "      <td>-0.022730</td>\n",
       "      <td>-0.091452</td>\n",
       "      <td>...</td>\n",
       "      <td>-0.029648</td>\n",
       "      <td>-0.037944</td>\n",
       "      <td>-0.046043</td>\n",
       "      <td>0.003603</td>\n",
       "      <td>0.018028</td>\n",
       "      <td>-0.030746</td>\n",
       "      <td>0.003671</td>\n",
       "      <td>-0.044464</td>\n",
       "      <td>0.030974</td>\n",
       "      <td>0.040322</td>\n",
       "    </tr>\n",
       "    <tr>\n",
       "      <th>3</th>\n",
       "      <td>0.055668</td>\n",
       "      <td>0.049560</td>\n",
       "      <td>-0.019646</td>\n",
       "      <td>-0.006977</td>\n",
       "      <td>0.039897</td>\n",
       "      <td>0.021177</td>\n",
       "      <td>-0.108079</td>\n",
       "      <td>-0.047191</td>\n",
       "      <td>-0.031517</td>\n",
       "      <td>-0.100057</td>\n",
       "      <td>...</td>\n",
       "      <td>-0.023210</td>\n",
       "      <td>-0.041704</td>\n",
       "      <td>-0.048440</td>\n",
       "      <td>0.006088</td>\n",
       "      <td>0.020110</td>\n",
       "      <td>-0.046751</td>\n",
       "      <td>-0.006635</td>\n",
       "      <td>-0.041455</td>\n",
       "      <td>0.016683</td>\n",
       "      <td>0.057030</td>\n",
       "    </tr>\n",
       "    <tr>\n",
       "      <th>4</th>\n",
       "      <td>0.022637</td>\n",
       "      <td>0.014306</td>\n",
       "      <td>-0.002696</td>\n",
       "      <td>-0.034456</td>\n",
       "      <td>0.034854</td>\n",
       "      <td>0.020822</td>\n",
       "      <td>-0.114046</td>\n",
       "      <td>-0.050019</td>\n",
       "      <td>-0.026491</td>\n",
       "      <td>-0.097928</td>\n",
       "      <td>...</td>\n",
       "      <td>-0.019185</td>\n",
       "      <td>-0.032108</td>\n",
       "      <td>-0.051394</td>\n",
       "      <td>0.008448</td>\n",
       "      <td>0.015208</td>\n",
       "      <td>-0.037987</td>\n",
       "      <td>0.030977</td>\n",
       "      <td>-0.042407</td>\n",
       "      <td>0.041232</td>\n",
       "      <td>0.047161</td>\n",
       "    </tr>\n",
       "  </tbody>\n",
       "</table>\n",
       "<p>5 rows × 1024 columns</p>\n",
       "</div>"
      ],
      "text/plain": [
       "   Column_1  Column_2  Column_3  Column_4  Column_5  Column_6  Column_7  \\\n",
       "0  0.054705  0.063420 -0.015320 -0.016506  0.042195  0.021592 -0.118535   \n",
       "1  0.090373  0.089842 -0.023887 -0.011446  0.051465  0.020982 -0.110989   \n",
       "2  0.043588  0.039572 -0.014332 -0.011769  0.045109  0.015847 -0.103339   \n",
       "3  0.055668  0.049560 -0.019646 -0.006977  0.039897  0.021177 -0.108079   \n",
       "4  0.022637  0.014306 -0.002696 -0.034456  0.034854  0.020822 -0.114046   \n",
       "\n",
       "   Column_8  Column_9  Column_10  ...  Column_1015  Column_1016  Column_1017  \\\n",
       "0 -0.063298 -0.046146  -0.102311  ...    -0.019581    -0.043712    -0.072322   \n",
       "1 -0.066646 -0.041259  -0.087551  ...    -0.024399    -0.041957    -0.066329   \n",
       "2 -0.047735 -0.022730  -0.091452  ...    -0.029648    -0.037944    -0.046043   \n",
       "3 -0.047191 -0.031517  -0.100057  ...    -0.023210    -0.041704    -0.048440   \n",
       "4 -0.050019 -0.026491  -0.097928  ...    -0.019185    -0.032108    -0.051394   \n",
       "\n",
       "   Column_1018  Column_1019  Column_1020  Column_1021  Column_1022  \\\n",
       "0     0.002404     0.018459    -0.047278     0.012195    -0.043319   \n",
       "1     0.006856     0.028449    -0.053758     0.009699    -0.053350   \n",
       "2     0.003603     0.018028    -0.030746     0.003671    -0.044464   \n",
       "3     0.006088     0.020110    -0.046751    -0.006635    -0.041455   \n",
       "4     0.008448     0.015208    -0.037987     0.030977    -0.042407   \n",
       "\n",
       "   Column_1023  Column_1024  \n",
       "0     0.036009     0.063093  \n",
       "1     0.019644     0.079630  \n",
       "2     0.030974     0.040322  \n",
       "3     0.016683     0.057030  \n",
       "4     0.041232     0.047161  \n",
       "\n",
       "[5 rows x 1024 columns]"
      ]
     },
     "execution_count": 19,
     "metadata": {},
     "output_type": "execute_result"
    }
   ],
   "source": [
    "test_df.head()"
   ]
  },
  {
   "cell_type": "code",
   "execution_count": 20,
   "id": "763ad1c8",
   "metadata": {
    "execution": {
     "iopub.execute_input": "2023-06-01T11:59:26.850054Z",
     "iopub.status.busy": "2023-06-01T11:59:26.849659Z",
     "iopub.status.idle": "2023-06-01T11:59:54.693327Z",
     "shell.execute_reply": "2023-06-01T11:59:54.692120Z"
    },
    "papermill": {
     "duration": 27.883074,
     "end_time": "2023-06-01T11:59:54.696221",
     "exception": false,
     "start_time": "2023-06-01T11:59:26.813147",
     "status": "completed"
    },
    "tags": []
   },
   "outputs": [
    {
     "name": "stdout",
     "output_type": "stream",
     "text": [
      "4434/4434 [==============================] - 23s 5ms/step\n"
     ]
    }
   ],
   "source": [
    "predictions =  model.predict(test_df)"
   ]
  },
  {
   "cell_type": "code",
   "execution_count": 21,
   "id": "f3b5bfde",
   "metadata": {
    "execution": {
     "iopub.execute_input": "2023-06-01T11:59:54.840276Z",
     "iopub.status.busy": "2023-06-01T11:59:54.839162Z",
     "iopub.status.idle": "2023-06-01T12:17:41.848107Z",
     "shell.execute_reply": "2023-06-01T12:17:41.845197Z"
    },
    "papermill": {
     "duration": 1067.087614,
     "end_time": "2023-06-01T12:17:41.854890",
     "exception": false,
     "start_time": "2023-06-01T11:59:54.767276",
     "status": "completed"
    },
    "tags": []
   },
   "outputs": [],
   "source": [
    "df_submission = pd.DataFrame(columns = ['Protein Id', 'GO Term Id','Prediction'])\n",
    "test_protein_ids = np.load('/kaggle/input/t5embeds/test_ids.npy')\n",
    "l = []\n",
    "for k in list(test_protein_ids):\n",
    "    l += [ k] * predictions.shape[1]   \n",
    "\n",
    "df_submission['Protein Id'] = l\n",
    "df_submission['GO Term Id'] = labels * predictions.shape[0]\n",
    "df_submission['Prediction'] = predictions.ravel()\n",
    "df_submission.to_csv(\"submission.tsv\",header=False, index=False, sep=\"\\t\")"
   ]
  },
  {
   "cell_type": "code",
   "execution_count": 22,
   "id": "160d2503",
   "metadata": {
    "execution": {
     "iopub.execute_input": "2023-06-01T12:17:42.017636Z",
     "iopub.status.busy": "2023-06-01T12:17:42.016789Z",
     "iopub.status.idle": "2023-06-01T12:17:42.036199Z",
     "shell.execute_reply": "2023-06-01T12:17:42.035304Z"
    },
    "papermill": {
     "duration": 0.102043,
     "end_time": "2023-06-01T12:17:42.039469",
     "exception": false,
     "start_time": "2023-06-01T12:17:41.937426",
     "status": "completed"
    },
    "tags": []
   },
   "outputs": [
    {
     "data": {
      "text/html": [
       "<div>\n",
       "<style scoped>\n",
       "    .dataframe tbody tr th:only-of-type {\n",
       "        vertical-align: middle;\n",
       "    }\n",
       "\n",
       "    .dataframe tbody tr th {\n",
       "        vertical-align: top;\n",
       "    }\n",
       "\n",
       "    .dataframe thead th {\n",
       "        text-align: right;\n",
       "    }\n",
       "</style>\n",
       "<table border=\"1\" class=\"dataframe\">\n",
       "  <thead>\n",
       "    <tr style=\"text-align: right;\">\n",
       "      <th></th>\n",
       "      <th>Protein Id</th>\n",
       "      <th>GO Term Id</th>\n",
       "      <th>Prediction</th>\n",
       "    </tr>\n",
       "  </thead>\n",
       "  <tbody>\n",
       "    <tr>\n",
       "      <th>0</th>\n",
       "      <td>Q9CQV8</td>\n",
       "      <td>GO:0005575</td>\n",
       "      <td>0.519943</td>\n",
       "    </tr>\n",
       "    <tr>\n",
       "      <th>1</th>\n",
       "      <td>Q9CQV8</td>\n",
       "      <td>GO:0008150</td>\n",
       "      <td>0.518085</td>\n",
       "    </tr>\n",
       "    <tr>\n",
       "      <th>2</th>\n",
       "      <td>Q9CQV8</td>\n",
       "      <td>GO:0110165</td>\n",
       "      <td>0.525000</td>\n",
       "    </tr>\n",
       "    <tr>\n",
       "      <th>3</th>\n",
       "      <td>Q9CQV8</td>\n",
       "      <td>GO:0003674</td>\n",
       "      <td>0.519078</td>\n",
       "    </tr>\n",
       "    <tr>\n",
       "      <th>4</th>\n",
       "      <td>Q9CQV8</td>\n",
       "      <td>GO:0005622</td>\n",
       "      <td>0.510622</td>\n",
       "    </tr>\n",
       "    <tr>\n",
       "      <th>...</th>\n",
       "      <td>...</td>\n",
       "      <td>...</td>\n",
       "      <td>...</td>\n",
       "    </tr>\n",
       "    <tr>\n",
       "      <th>212797495</th>\n",
       "      <td>A0A3G2FQK2</td>\n",
       "      <td>GO:0051783</td>\n",
       "      <td>0.308998</td>\n",
       "    </tr>\n",
       "    <tr>\n",
       "      <th>212797496</th>\n",
       "      <td>A0A3G2FQK2</td>\n",
       "      <td>GO:0031674</td>\n",
       "      <td>0.322004</td>\n",
       "    </tr>\n",
       "    <tr>\n",
       "      <th>212797497</th>\n",
       "      <td>A0A3G2FQK2</td>\n",
       "      <td>GO:0001818</td>\n",
       "      <td>0.328311</td>\n",
       "    </tr>\n",
       "    <tr>\n",
       "      <th>212797498</th>\n",
       "      <td>A0A3G2FQK2</td>\n",
       "      <td>GO:0006874</td>\n",
       "      <td>0.318827</td>\n",
       "    </tr>\n",
       "    <tr>\n",
       "      <th>212797499</th>\n",
       "      <td>A0A3G2FQK2</td>\n",
       "      <td>GO:0016887</td>\n",
       "      <td>0.286617</td>\n",
       "    </tr>\n",
       "  </tbody>\n",
       "</table>\n",
       "<p>212797500 rows × 3 columns</p>\n",
       "</div>"
      ],
      "text/plain": [
       "           Protein Id  GO Term Id  Prediction\n",
       "0              Q9CQV8  GO:0005575    0.519943\n",
       "1              Q9CQV8  GO:0008150    0.518085\n",
       "2              Q9CQV8  GO:0110165    0.525000\n",
       "3              Q9CQV8  GO:0003674    0.519078\n",
       "4              Q9CQV8  GO:0005622    0.510622\n",
       "...               ...         ...         ...\n",
       "212797495  A0A3G2FQK2  GO:0051783    0.308998\n",
       "212797496  A0A3G2FQK2  GO:0031674    0.322004\n",
       "212797497  A0A3G2FQK2  GO:0001818    0.328311\n",
       "212797498  A0A3G2FQK2  GO:0006874    0.318827\n",
       "212797499  A0A3G2FQK2  GO:0016887    0.286617\n",
       "\n",
       "[212797500 rows x 3 columns]"
      ]
     },
     "execution_count": 22,
     "metadata": {},
     "output_type": "execute_result"
    }
   ],
   "source": [
    "df_submission"
   ]
  }
 ],
 "metadata": {
  "kernelspec": {
   "display_name": "Python 3",
   "language": "python",
   "name": "python3"
  },
  "language_info": {
   "codemirror_mode": {
    "name": "ipython",
    "version": 3
   },
   "file_extension": ".py",
   "mimetype": "text/x-python",
   "name": "python",
   "nbconvert_exporter": "python",
   "pygments_lexer": "ipython3",
   "version": "3.8.16"
  },
  "papermill": {
   "default_parameters": {},
   "duration": 2586.646336,
   "end_time": "2023-06-01T12:17:45.348364",
   "environment_variables": {},
   "exception": null,
   "input_path": "__notebook__.ipynb",
   "output_path": "__notebook__.ipynb",
   "parameters": {},
   "start_time": "2023-06-01T11:34:38.702028",
   "version": "2.4.0"
  }
 },
 "nbformat": 4,
 "nbformat_minor": 5
}
