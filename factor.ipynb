{
 "cells": [
  {
   "cell_type": "code",
   "execution_count": 1,
   "metadata": {},
   "outputs": [],
   "source": [
    "import pandas as pd\n",
    "import numpy as np"
   ]
  },
  {
   "cell_type": "code",
   "execution_count": 2,
   "metadata": {},
   "outputs": [],
   "source": [
    "data = pd.read_csv('./mdshc_hk.csv')"
   ]
  },
  {
   "attachments": {},
   "cell_type": "markdown",
   "metadata": {},
   "source": [
    "Experiment (1), concatenate candidate mood states from section E1 and E3 for feature building"
   ]
  },
  {
   "cell_type": "code",
   "execution_count": 3,
   "metadata": {},
   "outputs": [],
   "source": [
    "mood_columns = ['E1a', 'E1b', 'E1c', 'E1d', 'E1e','E1f', 'E1g', 'E1h', 'E1i', 'E3a', 'E3b', 'E3c', 'E3d', 'E3e']\n",
    "exp1 = data.loc[:, mood_columns]\n"
   ]
  },
  {
   "cell_type": "code",
   "execution_count": 4,
   "metadata": {},
   "outputs": [],
   "source": [
    "# fill na with zeros\n",
    "\n",
    "exp11 = exp1.copy()\n",
    "\n",
    "for column in mood_columns:\n",
    "    exp11.fillna({column: 0}, inplace=True)"
   ]
  },
  {
   "cell_type": "code",
   "execution_count": 6,
   "metadata": {},
   "outputs": [
    {
     "data": {
      "text/html": [
       "<style>#sk-container-id-1 {color: black;background-color: white;}#sk-container-id-1 pre{padding: 0;}#sk-container-id-1 div.sk-toggleable {background-color: white;}#sk-container-id-1 label.sk-toggleable__label {cursor: pointer;display: block;width: 100%;margin-bottom: 0;padding: 0.3em;box-sizing: border-box;text-align: center;}#sk-container-id-1 label.sk-toggleable__label-arrow:before {content: \"▸\";float: left;margin-right: 0.25em;color: #696969;}#sk-container-id-1 label.sk-toggleable__label-arrow:hover:before {color: black;}#sk-container-id-1 div.sk-estimator:hover label.sk-toggleable__label-arrow:before {color: black;}#sk-container-id-1 div.sk-toggleable__content {max-height: 0;max-width: 0;overflow: hidden;text-align: left;background-color: #f0f8ff;}#sk-container-id-1 div.sk-toggleable__content pre {margin: 0.2em;color: black;border-radius: 0.25em;background-color: #f0f8ff;}#sk-container-id-1 input.sk-toggleable__control:checked~div.sk-toggleable__content {max-height: 200px;max-width: 100%;overflow: auto;}#sk-container-id-1 input.sk-toggleable__control:checked~label.sk-toggleable__label-arrow:before {content: \"▾\";}#sk-container-id-1 div.sk-estimator input.sk-toggleable__control:checked~label.sk-toggleable__label {background-color: #d4ebff;}#sk-container-id-1 div.sk-label input.sk-toggleable__control:checked~label.sk-toggleable__label {background-color: #d4ebff;}#sk-container-id-1 input.sk-hidden--visually {border: 0;clip: rect(1px 1px 1px 1px);clip: rect(1px, 1px, 1px, 1px);height: 1px;margin: -1px;overflow: hidden;padding: 0;position: absolute;width: 1px;}#sk-container-id-1 div.sk-estimator {font-family: monospace;background-color: #f0f8ff;border: 1px dotted black;border-radius: 0.25em;box-sizing: border-box;margin-bottom: 0.5em;}#sk-container-id-1 div.sk-estimator:hover {background-color: #d4ebff;}#sk-container-id-1 div.sk-parallel-item::after {content: \"\";width: 100%;border-bottom: 1px solid gray;flex-grow: 1;}#sk-container-id-1 div.sk-label:hover label.sk-toggleable__label {background-color: #d4ebff;}#sk-container-id-1 div.sk-serial::before {content: \"\";position: absolute;border-left: 1px solid gray;box-sizing: border-box;top: 0;bottom: 0;left: 50%;z-index: 0;}#sk-container-id-1 div.sk-serial {display: flex;flex-direction: column;align-items: center;background-color: white;padding-right: 0.2em;padding-left: 0.2em;position: relative;}#sk-container-id-1 div.sk-item {position: relative;z-index: 1;}#sk-container-id-1 div.sk-parallel {display: flex;align-items: stretch;justify-content: center;background-color: white;position: relative;}#sk-container-id-1 div.sk-item::before, #sk-container-id-1 div.sk-parallel-item::before {content: \"\";position: absolute;border-left: 1px solid gray;box-sizing: border-box;top: 0;bottom: 0;left: 50%;z-index: -1;}#sk-container-id-1 div.sk-parallel-item {display: flex;flex-direction: column;z-index: 1;position: relative;background-color: white;}#sk-container-id-1 div.sk-parallel-item:first-child::after {align-self: flex-end;width: 50%;}#sk-container-id-1 div.sk-parallel-item:last-child::after {align-self: flex-start;width: 50%;}#sk-container-id-1 div.sk-parallel-item:only-child::after {width: 0;}#sk-container-id-1 div.sk-dashed-wrapped {border: 1px dashed gray;margin: 0 0.4em 0.5em 0.4em;box-sizing: border-box;padding-bottom: 0.4em;background-color: white;}#sk-container-id-1 div.sk-label label {font-family: monospace;font-weight: bold;display: inline-block;line-height: 1.2em;}#sk-container-id-1 div.sk-label-container {text-align: center;}#sk-container-id-1 div.sk-container {/* jupyter's `normalize.less` sets `[hidden] { display: none; }` but bootstrap.min.css set `[hidden] { display: none !important; }` so we also need the `!important` here to be able to override the default hidden behavior on the sphinx rendered scikit-learn.org. See: https://github.com/scikit-learn/scikit-learn/issues/21755 */display: inline-block !important;position: relative;}#sk-container-id-1 div.sk-text-repr-fallback {display: none;}</style><div id=\"sk-container-id-1\" class=\"sk-top-container\"><div class=\"sk-text-repr-fallback\"><pre>FactorAnalyzer(n_factors=2, rotation=None, rotation_kwargs={})</pre><b>In a Jupyter environment, please rerun this cell to show the HTML representation or trust the notebook. <br />On GitHub, the HTML representation is unable to render, please try loading this page with nbviewer.org.</b></div><div class=\"sk-container\" hidden><div class=\"sk-item\"><div class=\"sk-estimator sk-toggleable\"><input class=\"sk-toggleable__control sk-hidden--visually\" id=\"sk-estimator-id-1\" type=\"checkbox\" checked><label for=\"sk-estimator-id-1\" class=\"sk-toggleable__label sk-toggleable__label-arrow\">FactorAnalyzer</label><div class=\"sk-toggleable__content\"><pre>FactorAnalyzer(n_factors=2, rotation=None, rotation_kwargs={})</pre></div></div></div></div></div>"
      ],
      "text/plain": [
       "FactorAnalyzer(n_factors=2, rotation=None, rotation_kwargs={})"
      ]
     },
     "execution_count": 6,
     "metadata": {},
     "output_type": "execute_result"
    }
   ],
   "source": [
    "# Demo (using factor_analyzer)\n",
    "from factor_analyzer import FactorAnalyzer\n",
    "fa = FactorAnalyzer(n_factors=2, rotation=None)\n",
    "fa.fit(exp11)"
   ]
  },
  {
   "cell_type": "code",
   "execution_count": 7,
   "metadata": {},
   "outputs": [
    {
     "data": {
      "text/plain": [
       "array([[ 4.36692604e-01, -8.49724647e-02],\n",
       "       [ 4.34129444e-01,  2.64213146e-01],\n",
       "       [ 4.25203788e-01,  2.38063453e-04],\n",
       "       [ 3.88808590e-01, -5.40531084e-02],\n",
       "       [ 3.64252626e-01,  5.50987348e-02],\n",
       "       [ 5.73493486e-01, -1.24847602e-01],\n",
       "       [ 3.85405823e-01, -6.46267811e-02],\n",
       "       [ 4.79083055e-01, -2.98621770e-01],\n",
       "       [ 4.77448102e-01, -3.09558254e-01],\n",
       "       [ 1.15182195e-01,  1.96836308e-01],\n",
       "       [ 2.89694355e-01,  5.01581552e-01],\n",
       "       [ 1.41006377e-01,  3.46369204e-01],\n",
       "       [ 9.17412802e-02,  2.83891377e-01],\n",
       "       [ 2.01991613e-01,  3.35442726e-01]])"
      ]
     },
     "execution_count": 7,
     "metadata": {},
     "output_type": "execute_result"
    }
   ],
   "source": [
    "fa.loadings_"
   ]
  },
  {
   "cell_type": "code",
   "execution_count": 8,
   "metadata": {},
   "outputs": [
    {
     "data": {
      "text/plain": [
       "array([[ 0.42482919,  0.04353331, -0.22563147],\n",
       "       [ 0.40091991,  0.31151342,  0.02218519],\n",
       "       [ 0.4058498 ,  0.10385701, -0.14637931],\n",
       "       [ 0.37284735,  0.04880885, -0.15811179],\n",
       "       [ 0.3435837 ,  0.13233559, -0.08910536],\n",
       "       [ 0.58200004,  0.05439474, -0.35352508],\n",
       "       [ 0.37783388,  0.06956472, -0.26145611],\n",
       "       [ 0.578629  , -0.4464878 ,  0.28835204],\n",
       "       [ 0.59529478, -0.48769175,  0.30454252],\n",
       "       [ 0.10515635,  0.16115365,  0.14520615],\n",
       "       [ 0.26486451,  0.44688559,  0.32404587],\n",
       "       [ 0.12589916,  0.28365875,  0.25259566],\n",
       "       [ 0.07905767,  0.2287882 ,  0.19916325],\n",
       "       [ 0.18503836,  0.28327135,  0.23610065]])"
      ]
     },
     "execution_count": 8,
     "metadata": {},
     "output_type": "execute_result"
    }
   ],
   "source": [
    "fa3 = FactorAnalyzer(n_factors=3, rotation=None)\n",
    "fa3.fit(exp11)\n",
    "fa3.loadings_"
   ]
  },
  {
   "cell_type": "code",
   "execution_count": 9,
   "metadata": {},
   "outputs": [
    {
     "data": {
      "text/plain": [
       "array([[ 0.58761948, -0.03468263,  0.10336753],\n",
       "       [ 0.46857436,  0.40455996, -0.02651591],\n",
       "       [ 0.55341313,  0.07916573,  0.06945273],\n",
       "       [ 0.52754561, -0.00389648,  0.09304806],\n",
       "       [ 0.48457411,  0.13440034,  0.01645922],\n",
       "       [ 0.71102045, -0.03900684,  0.14151626],\n",
       "       [ 0.58349883, -0.05054098,  0.00426455],\n",
       "       [ 0.15431433,  0.04262722,  0.89017568],\n",
       "       [ 0.15453136,  0.02892728,  0.89230209],\n",
       "       [ 0.00230956,  0.39846818,  0.04863496],\n",
       "       [ 0.13813405,  0.68580535, -0.01665968],\n",
       "       [-0.0122164 ,  0.57663374,  0.00193536],\n",
       "       [-0.04002472,  0.50064439, -0.01871171],\n",
       "       [ 0.05073452,  0.58824192,  0.04398861]])"
      ]
     },
     "execution_count": 9,
     "metadata": {},
     "output_type": "execute_result"
    }
   ],
   "source": [
    "fa3r = FactorAnalyzer(n_factors=3, rotation='varimax', method='principal')\n",
    "fa3r.fit(exp11)\n",
    "fa3r.loadings_"
   ]
  },
  {
   "cell_type": "code",
   "execution_count": 18,
   "metadata": {},
   "outputs": [],
   "source": [
    "# factor1: feeling, factor2: behaviour, factor3: social interaction"
   ]
  },
  {
   "cell_type": "code",
   "execution_count": null,
   "metadata": {},
   "outputs": [],
   "source": []
  }
 ],
 "metadata": {
  "kernelspec": {
   "display_name": "Python 3.7.5 64-bit",
   "language": "python",
   "name": "python3"
  },
  "language_info": {
   "codemirror_mode": {
    "name": "ipython",
    "version": 3
   },
   "file_extension": ".py",
   "mimetype": "text/x-python",
   "name": "python",
   "nbconvert_exporter": "python",
   "pygments_lexer": "ipython3",
   "version": "3.8.16"
  },
  "orig_nbformat": 4,
  "vscode": {
   "interpreter": {
    "hash": "5109d816b82be14675a6b11f8e0f0d2e80f029176ed3710d54e125caa8520dfd"
   }
  }
 },
 "nbformat": 4,
 "nbformat_minor": 2
}
